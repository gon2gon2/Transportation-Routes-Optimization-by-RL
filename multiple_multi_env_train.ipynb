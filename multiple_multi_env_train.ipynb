{
 "cells": [
  {
   "cell_type": "code",
   "execution_count": 1,
   "metadata": {},
   "outputs": [],
   "source": [
    "import torch\n",
    "import torch.nn as nn\n",
    "import torch.nn.functional as F\n",
    "import torch.optim as optim\n",
    "from torch.distributions import Categorical"
   ]
  },
  {
   "cell_type": "code",
   "execution_count": 2,
   "metadata": {},
   "outputs": [],
   "source": [
    "import numpy as np\n",
    "import os\n",
    "from Building import Building\n",
    "#from Agent import Agent\n",
    "import time\n",
    "#====================================================================================\n",
    "\n",
    "\n",
    "#====================================================================================\n",
    "#Building Setting\n",
    "lift_num = 2\n",
    "buliding_height = 5\n",
    "max_people_in_floor = 8\n",
    "max_people_in_elevator = 10\n",
    "\n",
    "add_people_at_step = 25\n",
    "add_people_prob = 0.8\n",
    "\n",
    "#Create building with 4 elevators, height 10, max people 30 in each floor\n",
    "env_num = 4\n",
    "\n",
    "#Agent controls each elevator\n",
    "#agent = Agent(buliding_height, lift_num, 4)\n",
    "#agent.reload(280)\n",
    "#The goal is to bring down all the people in the building to the ground floor\n",
    "\n",
    "epochs = 1000\n",
    "max_steps = 100\n",
    "global_step = 0\n",
    "T_horizon = 20\n",
    "reward_list = []\n",
    "print_interval = 20\n",
    "\n"
   ]
  },
  {
   "cell_type": "code",
   "execution_count": 110,
   "metadata": {},
   "outputs": [],
   "source": [
    "#Hyperparameters\n",
    "learning_rate = 0.0001\n",
    "gamma         = 0.99\n",
    "lmbda         = 0.95\n",
    "eps_clip      = 0.1\n",
    "K_epoch       = 3\n",
    "T_horizon     = 20\n",
    "class Agent(nn.Module):\n",
    "    def __init__(self, state_dim,elevator_num,action_dim,learning_rate,env_num):\n",
    "        self.state_dim = state_dim\n",
    "        self.elevator_num = elevator_num\n",
    "        self.action_dim = action_dim\n",
    "        self.env_num = env_num\n",
    "        super(Agent,self).__init__()\n",
    "        self.memory = [[] for _ in range(self.env_num)]\n",
    "\n",
    "        self.fc1 = nn.Linear(self.state_dim,256)\n",
    "        self.fc2 = nn.Linear(256,256)\n",
    "        self.policy = nn.ModuleList([nn.Linear(256, self.action_dim) for _ in range(self.elevator_num)])\n",
    "        #self.policy = [nn.Linear(256, self.action_dim) for x in range(elevator_num)]\n",
    "        self.value = nn.Linear(256, 1)\n",
    "        self.optimizer = optim.Adam(self.parameters(),lr = learning_rate)\n",
    "        \n",
    "    def get_action(self,x, softmax_dim = 0):\n",
    "        x = F.relu(self.fc1(x))\n",
    "        x = F.relu(self.fc2(x))\n",
    "        xs = [layer(x) for layer in self.policy]\n",
    "        x = [F.softmax(x,dim = softmax_dim) for x in xs]\n",
    "        return x\n",
    "\n",
    "    \n",
    "    def get_value(self,x):\n",
    "        x = F.relu(self.fc1(x))\n",
    "        x = F.relu(self.fc2(x))\n",
    "        x = self.value(x)\n",
    "        return x\n",
    "    \n",
    "    def put_data(self,i,data):\n",
    "        self.memory[i].append(data)\n",
    "        \n",
    "    def make_batch(self,i):\n",
    "        #print(i)\n",
    "        state_list, action_list, reward_list, next_state_list, prob_list, done_list = [],[],[],[],[],[]\n",
    "        for data in self.memory[i]:\n",
    "            state,action,reward,next_state,prob,done = data\n",
    "            state_list.append(state)\n",
    "            action_list.append([action])\n",
    "            reward_list.append([reward])\n",
    "            prob_list.append([prob])\n",
    "            next_state_list.append(next_state)\n",
    "            done_mask = 0 if done else 1\n",
    "            done_list.append([done_mask])\n",
    "        #print(prob_list)\n",
    "        s,a,r,next_s,done_mask,prob = torch.tensor(state_list,dtype=torch.float),\\\n",
    "                                        torch.tensor(action_list),torch.tensor(reward_list),\\\n",
    "                                        torch.tensor(next_state_list,dtype=torch.float),\\\n",
    "                                        torch.tensor(done_list,dtype = torch.float),\\\n",
    "                                        torch.tensor(prob_list)\n",
    "        return s,a,r,next_s,done_mask,prob\n",
    "    \n",
    "    def train(self):\n",
    "        for i in range(K_epoch):\n",
    "            stop = 0\n",
    "            for env in range(self.env_num):\n",
    "                state,action,reward, next_state,done_mask,action_prob = self.make_batch(env)\n",
    "                if state.shape[0] == 0 :\n",
    "                    stop += 1\n",
    "                    continue\n",
    "                td_error = reward + gamma * self.get_value(next_state) * done_mask\n",
    "                delta = td_error - self.get_value(state)\n",
    "                delta = delta.detach().numpy()\n",
    "                advantage_list = []\n",
    "                advantage = 0.0\n",
    "                for delta_t in delta[::-1]:\n",
    "                    advantage = gamma * lmbda * advantage + delta_t[0]\n",
    "                    advantage_list.append([advantage])\n",
    "                advantage_list.reverse()\n",
    "                if env == stop:\n",
    "                    all_advantage = torch.tensor(advantage_list,dtype = torch.float)\n",
    "                    all_action = action\n",
    "                    all_state = state\n",
    "                    all_action_prob = action_prob\n",
    "                    all_td_error = td_error\n",
    "                else :\n",
    "                    all_advantage = torch.cat((all_advantage,torch.tensor(advantage_list,dtype= torch.float)))\n",
    "                    all_action = torch.cat((all_action,action))\n",
    "                    all_state = torch.cat((all_state,state))\n",
    "                    all_action_prob = torch.cat((all_action_prob,action_prob))\n",
    "                    all_td_error = torch.cat((all_td_error,td_error))\n",
    "            \n",
    "\n",
    "            now_action = self.get_action(all_state,softmax_dim = 1)\n",
    "            #print('now_action : ', now_action.shape)\n",
    "            now_action = torch.stack(now_action)\n",
    "            #print('stacked now_action.shape : ', now_action.shape)\n",
    "            action_select = np.array([[x[0][idx] for x in all_action] for idx in range(self.elevator_num)])\n",
    "            #print('action_select.shape : ',action_select.shape)\n",
    "            action_select = torch.from_numpy(action_select).reshape(self.elevator_num,-1,1)\n",
    "            #print('action_select.shape : ',action_select.shape)\n",
    "            now_action = now_action.gather(2,action_select)\n",
    "            #print('now_action.shape : ', now_action.shape)\n",
    "            action_prob = all_action_prob.reshape(-1,2,1) ##problem\n",
    "            #print('action_prob.shape : ',action_prob.shape)\n",
    "            action_prob = action_prob.permute(1,0,2)\n",
    "            #print(now_action)\n",
    "            #print(action_prob)\n",
    "            #raise Exception()\n",
    "            #print('now_action.shape : ',now_action.shape)\n",
    "            #print('action_prob.shape : ',action_prob.shape)\n",
    "            ratio = torch.exp(torch.log(now_action) - torch.log(action_prob))\n",
    "        \n",
    "\n",
    "            surr1 = ratio * all_advantage\n",
    "            surr2 = torch.clamp(ratio , 1-eps_clip, 1 + eps_clip) * all_advantage\n",
    "            \n",
    "            loss = - torch.min(surr1,surr2) + F.smooth_l1_loss(self.get_value(all_state),all_td_error.detach())\n",
    "            self.optimizer.zero_grad()\n",
    "            loss.mean().backward()\n",
    "            self.optimizer.step()\n",
    "        self.memory = [[] for _ in range(self.env_num)]"
   ]
  },
  {
   "cell_type": "code",
   "execution_count": 111,
   "metadata": {},
   "outputs": [],
   "source": [
    "def finish_checker(x):\n",
    "    return x[:-2* env_num]"
   ]
  },
  {
   "cell_type": "code",
   "execution_count": 112,
   "metadata": {},
   "outputs": [],
   "source": [
    "model = Agent((buliding_height)+ (max_people_in_elevator +lift_num) * lift_num,2,4,learning_rate,env_num)\n",
    "print_interval = 20\n",
    "ave_reward = 0 \n",
    "epochs = 500000\n",
    "building_list = [Building(lift_num, buliding_height, max_people_in_floor,max_people_in_elevator) for _ in range(env_num)]"
   ]
  },
  {
   "cell_type": "code",
   "execution_count": null,
   "metadata": {},
   "outputs": [
    {
     "name": "stdout",
     "output_type": "stream",
     "text": [
      "# of episode :20, avg score : 183.2\n",
      "# of episode :40, avg score : 239.7\n",
      "# of episode :60, avg score : 238.3\n",
      "# of episode :80, avg score : 171.7\n",
      "# of episode :100, avg score : 152.0\n",
      "# of episode :120, avg score : 134.1\n",
      "# of episode :140, avg score : 132.3\n",
      "# of episode :160, avg score : 113.3\n",
      "# of episode :180, avg score : 103.8\n",
      "# of episode :200, avg score : 109.0\n",
      "# of episode :220, avg score : 103.2\n",
      "# of episode :240, avg score : 81.2\n",
      "# of episode :260, avg score : 79.5\n",
      "# of episode :280, avg score : 92.3\n",
      "# of episode :300, avg score : 77.5\n",
      "# of episode :320, avg score : 84.8\n",
      "# of episode :340, avg score : 85.2\n",
      "# of episode :360, avg score : 73.0\n",
      "# of episode :380, avg score : 77.2\n",
      "# of episode :400, avg score : 80.5\n",
      "# of episode :420, avg score : 67.2\n",
      "# of episode :440, avg score : 68.2\n",
      "# of episode :460, avg score : 76.8\n",
      "# of episode :480, avg score : 66.2\n",
      "# of episode :500, avg score : 67.5\n",
      "# of episode :520, avg score : 57.9\n",
      "# of episode :540, avg score : 60.8\n",
      "# of episode :560, avg score : 57.5\n",
      "# of episode :580, avg score : 65.8\n",
      "# of episode :600, avg score : 70.3\n",
      "# of episode :620, avg score : 58.4\n"
     ]
    }
   ],
   "source": [
    "for epoch in range(epochs):\n",
    "    [building.empty_building() for building in building_list]\n",
    "    [building.generate_people(add_people_prob) for building in building_list]\n",
    "    state_list = [building.get_state() for building in building_list]\n",
    "    \n",
    "    done_list = [False for _ in range(env_num)]\n",
    "    global_step = 0\n",
    "    while not all(done_list):\n",
    "        for t in range(T_horizon):\n",
    "            global_step += 1\n",
    "            #print('global_step : ',global_step, ' done_list : ',done_list)\n",
    "            if (global_step % 25 == 0) & global_step > 0 :\n",
    "                #building.generate_people(add_people_prob/2)\n",
    "                pass\n",
    "            action_prob_list = [model.get_action(torch.from_numpy(np.array(state)).float()) for state in state_list]\n",
    "            m_list = [[Categorical(x) for x in action_prob] for action_prob in action_prob_list]\n",
    "            action_list = [[x.sample().item() for x in m] for m in m_list]\n",
    "            [building.perform_action([action_list[idx]][0]) for idx,building in enumerate(building_list)]\n",
    "            reward_list = [building.get_reward() for building in building_list]\n",
    "            \n",
    "            next_state_list = [building.get_state() for building in building_list]\n",
    "            finished_list = [next_state.copy() for next_state in next_state_list]\n",
    "            finished_list = list(map(finish_checker, finished_list))\n",
    "            for i in range(env_num):\n",
    "                if (sum(finished_list[i]) == 0.0) : #and (done_list[i] != True):\n",
    "                    reward_list[i] = 100. #* building.target\n",
    "                    done_list[i] = True\n",
    "            for i in range(env_num):\n",
    "                #if reward_list[i] == 0 and done_list[i] == True:\n",
    "                #    continue\n",
    "                #([[x[action_list[idx][in_idx]].item() for in_idx,x in enumerate(prob)] \\\n",
    "                #for idx,prob in enumerate(action_prob_list)])\n",
    "                #print([x[action_list[i][idx]].item() for idx, x in enumerate(action_prob_list[i])])\n",
    "                model.put_data(i,(state_list[i], action_list[i], reward_list[i]/100.0,\\\n",
    "                                next_state_list[i], \\\n",
    "                                  [x[action_list[i][idx]].item() for idx, x in enumerate(action_prob_list[i])]\n",
    "                                  #[[x[action_list[idx][in_idx]].item() for in_idx,x in enumerate(prob)]\\\n",
    "                                  #for idx,prob in enumerate(action_prob_list)]\\\n",
    "                                  \n",
    "                                  , done_list[i]))\n",
    "            state_list = next_state_list\n",
    "            for i in range(env_num):\n",
    "                if (global_step > 300):\n",
    "                    done_list[i] = True\n",
    "            if all(done_list) == True:\n",
    "                break\n",
    "        model.train()\n",
    "    ave_reward += global_step \n",
    "    #print(\"Epoch: %d Step: %d Average Reward: %.4f\"%(epoch, global_step, ave_reward/global_step))\n",
    "    if epoch%print_interval==0 and epoch!=0:\n",
    "        print(\"# of episode :{}, avg score : {:.1f}\".format(epoch, ave_reward/print_interval))\n",
    "        ave_reward = 0\n",
    "    if (epoch % 10000 == 0 )& (epoch != 0):\n",
    "        #torch.save(model.state_dict(), './model_weights/multi_model_'+str(epoch))\n",
    "        pass\n",
    "    reward_list.append(global_step)"
   ]
  },
  {
   "cell_type": "code",
   "execution_count": 105,
   "metadata": {},
   "outputs": [
    {
     "data": {
      "text/plain": [
       "0.9942"
      ]
     },
     "execution_count": 105,
     "metadata": {},
     "output_type": "execute_result"
    }
   ],
   "source": [
    "sum([0.2487, 0.2566, 0.2559, 0.2330])"
   ]
  },
  {
   "cell_type": "code",
   "execution_count": 84,
   "metadata": {},
   "outputs": [
    {
     "data": {
      "text/plain": [
       "[[3, 1], [1, 1], [1, 1], [0, 1]]"
      ]
     },
     "execution_count": 84,
     "metadata": {},
     "output_type": "execute_result"
    }
   ],
   "source": [
    "action_list"
   ]
  },
  {
   "cell_type": "code",
   "execution_count": 93,
   "metadata": {},
   "outputs": [],
   "source": [
    "test = 0"
   ]
  },
  {
   "cell_type": "code",
   "execution_count": 98,
   "metadata": {},
   "outputs": [
    {
     "data": {
      "text/plain": [
       "[0.25725942850112915, 0.2661406099796295]"
      ]
     },
     "execution_count": 98,
     "metadata": {},
     "output_type": "execute_result"
    }
   ],
   "source": []
  },
  {
   "cell_type": "code",
   "execution_count": null,
   "metadata": {},
   "outputs": [],
   "source": [
    "[x[action[idx]].item() for idx,x in enumerate (action_prob)]"
   ]
  },
  {
   "cell_type": "code",
   "execution_count": 86,
   "metadata": {},
   "outputs": [
    {
     "data": {
      "text/plain": [
       "[[0.25725942850112915, 0.2661406099796295],\n",
       " [0.2514480948448181, 0.26537156105041504],\n",
       " [0.25304436683654785, 0.26812371611595154],\n",
       " [0.22482609748840332, 0.2689354717731476]]"
      ]
     },
     "execution_count": 86,
     "metadata": {},
     "output_type": "execute_result"
    }
   ],
   "source": [
    "[[x[action_list[idx][in_idx]].item() for in_idx,x in enumerate(prob)]\\\n",
    "                                  for idx,prob in enumerate(action_prob_list)]"
   ]
  },
  {
   "cell_type": "code",
   "execution_count": null,
   "metadata": {},
   "outputs": [],
   "source": [
    "a"
   ]
  },
  {
   "cell_type": "code",
   "execution_count": 90,
   "metadata": {},
   "outputs": [
    {
     "ename": "TypeError",
     "evalue": "list indices must be integers or slices, not list",
     "output_type": "error",
     "traceback": [
      "\u001b[1;31m---------------------------------------------------------------------------\u001b[0m",
      "\u001b[1;31mTypeError\u001b[0m                                 Traceback (most recent call last)",
      "\u001b[1;32m<ipython-input-90-d627dd108bab>\u001b[0m in \u001b[0;36m<module>\u001b[1;34m\u001b[0m\n\u001b[1;32m----> 1\u001b[1;33m \u001b[1;33m[\u001b[0m\u001b[0mx\u001b[0m\u001b[1;33m[\u001b[0m\u001b[0maction_list\u001b[0m\u001b[1;33m[\u001b[0m\u001b[0midx\u001b[0m\u001b[1;33m]\u001b[0m\u001b[1;33m]\u001b[0m\u001b[1;33m.\u001b[0m\u001b[0mitem\u001b[0m\u001b[1;33m(\u001b[0m\u001b[1;33m)\u001b[0m \u001b[1;32mfor\u001b[0m \u001b[0midx\u001b[0m\u001b[1;33m,\u001b[0m\u001b[0mx\u001b[0m \u001b[1;32min\u001b[0m \u001b[0menumerate\u001b[0m \u001b[1;33m(\u001b[0m\u001b[0maction_prob_list\u001b[0m\u001b[1;33m)\u001b[0m\u001b[1;33m]\u001b[0m\u001b[1;33m\u001b[0m\u001b[1;33m\u001b[0m\u001b[0m\n\u001b[0m",
      "\u001b[1;32m<ipython-input-90-d627dd108bab>\u001b[0m in \u001b[0;36m<listcomp>\u001b[1;34m(.0)\u001b[0m\n\u001b[1;32m----> 1\u001b[1;33m \u001b[1;33m[\u001b[0m\u001b[0mx\u001b[0m\u001b[1;33m[\u001b[0m\u001b[0maction_list\u001b[0m\u001b[1;33m[\u001b[0m\u001b[0midx\u001b[0m\u001b[1;33m]\u001b[0m\u001b[1;33m]\u001b[0m\u001b[1;33m.\u001b[0m\u001b[0mitem\u001b[0m\u001b[1;33m(\u001b[0m\u001b[1;33m)\u001b[0m \u001b[1;32mfor\u001b[0m \u001b[0midx\u001b[0m\u001b[1;33m,\u001b[0m\u001b[0mx\u001b[0m \u001b[1;32min\u001b[0m \u001b[0menumerate\u001b[0m \u001b[1;33m(\u001b[0m\u001b[0maction_prob_list\u001b[0m\u001b[1;33m)\u001b[0m\u001b[1;33m]\u001b[0m\u001b[1;33m\u001b[0m\u001b[1;33m\u001b[0m\u001b[0m\n\u001b[0m",
      "\u001b[1;31mTypeError\u001b[0m: list indices must be integers or slices, not list"
     ]
    }
   ],
   "source": [
    "[x[action_list[idx]].item() for idx,x in enumerate (action_prob_list)]"
   ]
  },
  {
   "cell_type": "code",
   "execution_count": 87,
   "metadata": {},
   "outputs": [
    {
     "data": {
      "text/plain": [
       "[tensor([0.2307, 0.2534, 0.2586, 0.2573], grad_fn=<SoftmaxBackward>),\n",
       " tensor([0.2448, 0.2661, 0.2365, 0.2526], grad_fn=<SoftmaxBackward>)]"
      ]
     },
     "execution_count": 87,
     "metadata": {},
     "output_type": "execute_result"
    }
   ],
   "source": [
    "action_prob_list[0]"
   ]
  }
 ],
 "metadata": {
  "kernelspec": {
   "display_name": "unity",
   "language": "python",
   "name": "unity"
  },
  "language_info": {
   "codemirror_mode": {
    "name": "ipython",
    "version": 3
   },
   "file_extension": ".py",
   "mimetype": "text/x-python",
   "name": "python",
   "nbconvert_exporter": "python",
   "pygments_lexer": "ipython3",
   "version": "3.6.9"
  }
 },
 "nbformat": 4,
 "nbformat_minor": 2
}
