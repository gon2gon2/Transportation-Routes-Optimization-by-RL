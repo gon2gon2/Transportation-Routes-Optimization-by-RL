{
 "cells": [
  {
   "cell_type": "code",
   "execution_count": 1,
   "metadata": {},
   "outputs": [],
   "source": [
    "import torch\n",
    "import torch.nn as nn\n",
    "import torch.nn.functional as F\n",
    "import torch.optim as optim\n",
    "from torch.distributions import Categorical"
   ]
  },
  {
   "cell_type": "code",
   "execution_count": 8,
   "metadata": {},
   "outputs": [],
   "source": [
    "#Hyperparameters\n",
    "learning_rate = 0.0005\n",
    "gamma         = 0.98\n",
    "lmbda         = 0.95\n",
    "eps_clip      = 0.1\n",
    "K_epoch       = 3\n",
    "T_horizon     = 20\n",
    "class Agent(nn.Module):\n",
    "    def __init__(self, state_dim,action_dim,learning_rate):\n",
    "        self.state_dim = state_dim\n",
    "        self.action_dim = action_dim\n",
    "        \n",
    "        super(Agent,self).__init__()\n",
    "        self.memory = []\n",
    "\n",
    "        self.fc1 = nn.Linear(self.state_dim,256)\n",
    "        self.policy = nn.Linear(256, self.action_dim)\n",
    "        self.value = nn.Linear(256, 1)\n",
    "        self.optimizer = optim.Adam(self.parameters(),lr = learning_rate)\n",
    "        \n",
    "    def get_action(self,x, softmax_dim = 0):\n",
    "        x = F.relu(self.fc1(x))\n",
    "        x = self.policy(x)\n",
    "        prob = F.softmax(x, dim = softmax_dim)\n",
    "        return prob\n",
    "    \n",
    "    def get_value(self,x):\n",
    "        x = F.relu(self.fc1(x))\n",
    "        x = self.value(x)\n",
    "        return x\n",
    "    \n",
    "    def put_data(self,data):\n",
    "        self.memory.append(data)\n",
    "        \n",
    "    def make_batch(self):\n",
    "        state_list, action_list, reward_list, next_state_list, prob_list, done_list = [],[],[],[],[],[]\n",
    "        for data in self.memory:\n",
    "            state,action,reward,next_state,prob,done = data\n",
    "            state_list.append(state)\n",
    "            action_list.append([action])\n",
    "            reward_list.append([reward])\n",
    "            prob_list.append([prob])\n",
    "            next_state_list.append(next_state)\n",
    "            done_mask = 0 if done else 1\n",
    "            done_list.append([done_mask])\n",
    "        self.memory = []\n",
    "        \n",
    "        s,a,r,next_s,done_mask,prob = torch.tensor(state_list,dtype=torch.float),\\\n",
    "                                        torch.tensor(action_list),torch.tensor(reward_list),\\\n",
    "                                        torch.tensor(next_state_list,dtype=torch.float),\\\n",
    "                                        torch.tensor(done_list,dtype = torch.float),\\\n",
    "                                        torch.tensor(prob_list)\n",
    "        return s,a,r,next_s,done_mask,prob\n",
    "    \n",
    "    def train(self):\n",
    "        state,action,reward, next_state,done_mask,action_prob = self.make_batch()\n",
    "\n",
    "        for i in range(K_epoch):\n",
    "            td_error = reward + gamma * self.get_value(next_state) * done_mask\n",
    "            delta = td_error - self.get_value(state)\n",
    "            delta = delta.detach().numpy()\n",
    "            advantage_list = []\n",
    "            advantage = 0.0\n",
    "            for delta_t in delta[::-1]:\n",
    "                advantage = gamma * lmbda * advantage + delta_t[0]\n",
    "                advantage_list.append([advantage])\n",
    "            advantage_list.reverse()\n",
    "            advantage = torch.tensor(advantage_list,dtype = torch.float)\n",
    "            \n",
    "            \n",
    "            now_action = self.get_action(state,softmax_dim = 1)\n",
    "            now_action = now_action.gather(1,action)\n",
    "            \n",
    "            ratio = torch.exp(torch.log(now_action) - torch.log(action_prob))\n",
    "            \n",
    "            surr1 = ratio * advantage\n",
    "            surr2 = torch.clamp(ratio , 1-eps_clip, 1 + eps_clip) * advantage\n",
    "            loss = - torch.min(surr1,surr2) + F.smooth_l1_loss(self.get_value(state),td_error.detach())\n",
    "            \n",
    "            self.optimizer.zero_grad()\n",
    "            loss.mean().backward()\n",
    "            self.optimizer.step()\n",
    "    "
   ]
  },
  {
   "cell_type": "code",
   "execution_count": 9,
   "metadata": {},
   "outputs": [],
   "source": [
    "import numpy as np\n",
    "import os\n",
    "from Building import Building\n",
    "#from Agent import Agent\n",
    "import time\n",
    "#====================================================================================\n",
    "\n",
    "\n",
    "#====================================================================================\n",
    "#Building Setting\n",
    "lift_num = 1\n",
    "buliding_height = 5\n",
    "max_people_in_floor = 8\n",
    "max_people_in_elevator = 10\n",
    "\n",
    "add_people_at_step = 25\n",
    "add_people_prob = 0.8\n",
    "\n",
    "#Create building with 4 elevators, height 10, max people 30 in each floor\n",
    "building = Building(lift_num, buliding_height, max_people_in_floor,max_people_in_elevator)\n",
    "\n",
    "#Agent controls each elevator\n",
    "#agent = Agent(buliding_height, lift_num, 4)\n",
    "#agent.reload(280)\n",
    "#The goal is to bring down all the people in the building to the ground floor\n",
    "\n",
    "epochs = 1000\n",
    "max_steps = 100\n",
    "global_step = 0\n",
    "T_horizon = 20\n",
    "reward_list = []\n",
    "print_interval = 20"
   ]
  },
  {
   "cell_type": "code",
   "execution_count": 10,
   "metadata": {},
   "outputs": [],
   "source": [
    "epochs = 10000"
   ]
  },
  {
   "cell_type": "code",
   "execution_count": 14,
   "metadata": {},
   "outputs": [],
   "source": [
    "model = Agent((buliding_height)+ max_people_in_elevator + (lift_num *2),4,learning_rate)\n",
    "print_interval = 20\n",
    "ave_reward = 0 "
   ]
  },
  {
   "cell_type": "code",
   "execution_count": 15,
   "metadata": {},
   "outputs": [],
   "source": [
    "#model.load_state_dict(torch.load(\"./model_weights/model_4000\"))"
   ]
  },
  {
   "cell_type": "code",
   "execution_count": 16,
   "metadata": {},
   "outputs": [
    {
     "name": "stdout",
     "output_type": "stream",
     "text": [
      "# of episode :20, avg score : 261.3\n",
      "# of episode :40, avg score : 281.4\n",
      "# of episode :60, avg score : 293.9\n",
      "# of episode :80, avg score : 288.2\n",
      "# of episode :100, avg score : 268.0\n",
      "# of episode :120, avg score : 251.4\n",
      "# of episode :140, avg score : 229.8\n",
      "# of episode :160, avg score : 161.2\n",
      "# of episode :180, avg score : 119.5\n",
      "# of episode :200, avg score : 121.7\n",
      "# of episode :220, avg score : 111.0\n",
      "# of episode :240, avg score : 119.8\n",
      "# of episode :260, avg score : 103.1\n",
      "# of episode :280, avg score : 101.9\n"
     ]
    },
    {
     "ename": "KeyboardInterrupt",
     "evalue": "",
     "output_type": "error",
     "traceback": [
      "\u001b[1;31m---------------------------------------------------------------------------\u001b[0m",
      "\u001b[1;31mKeyboardInterrupt\u001b[0m                         Traceback (most recent call last)",
      "\u001b[1;32m<ipython-input-16-ed87a8fb6037>\u001b[0m in \u001b[0;36m<module>\u001b[1;34m\u001b[0m\n\u001b[0;32m     36\u001b[0m                 \u001b[1;32mbreak\u001b[0m\u001b[1;33m\u001b[0m\u001b[1;33m\u001b[0m\u001b[0m\n\u001b[0;32m     37\u001b[0m \u001b[1;33m\u001b[0m\u001b[0m\n\u001b[1;32m---> 38\u001b[1;33m         \u001b[0mmodel\u001b[0m\u001b[1;33m.\u001b[0m\u001b[0mtrain\u001b[0m\u001b[1;33m(\u001b[0m\u001b[1;33m)\u001b[0m\u001b[1;33m\u001b[0m\u001b[1;33m\u001b[0m\u001b[0m\n\u001b[0m\u001b[0;32m     39\u001b[0m     \u001b[0mave_reward\u001b[0m \u001b[1;33m+=\u001b[0m \u001b[0mglobal_step\u001b[0m\u001b[1;33m\u001b[0m\u001b[1;33m\u001b[0m\u001b[0m\n\u001b[0;32m     40\u001b[0m     \u001b[1;31m#print(\"Epoch: %d Step: %d Average Reward: %.4f\"%(epoch, global_step, ave_reward/global_step))\u001b[0m\u001b[1;33m\u001b[0m\u001b[1;33m\u001b[0m\u001b[1;33m\u001b[0m\u001b[0m\n",
      "\u001b[1;32m<ipython-input-8-7b2544148848>\u001b[0m in \u001b[0;36mtrain\u001b[1;34m(self)\u001b[0m\n\u001b[0;32m     58\u001b[0m         \u001b[1;32mfor\u001b[0m \u001b[0mi\u001b[0m \u001b[1;32min\u001b[0m \u001b[0mrange\u001b[0m\u001b[1;33m(\u001b[0m\u001b[0mK_epoch\u001b[0m\u001b[1;33m)\u001b[0m\u001b[1;33m:\u001b[0m\u001b[1;33m\u001b[0m\u001b[1;33m\u001b[0m\u001b[0m\n\u001b[0;32m     59\u001b[0m             \u001b[0mtd_error\u001b[0m \u001b[1;33m=\u001b[0m \u001b[0mreward\u001b[0m \u001b[1;33m+\u001b[0m \u001b[0mgamma\u001b[0m \u001b[1;33m*\u001b[0m \u001b[0mself\u001b[0m\u001b[1;33m.\u001b[0m\u001b[0mget_value\u001b[0m\u001b[1;33m(\u001b[0m\u001b[0mnext_state\u001b[0m\u001b[1;33m)\u001b[0m \u001b[1;33m*\u001b[0m \u001b[0mdone_mask\u001b[0m\u001b[1;33m\u001b[0m\u001b[1;33m\u001b[0m\u001b[0m\n\u001b[1;32m---> 60\u001b[1;33m             \u001b[0mdelta\u001b[0m \u001b[1;33m=\u001b[0m \u001b[0mtd_error\u001b[0m \u001b[1;33m-\u001b[0m \u001b[0mself\u001b[0m\u001b[1;33m.\u001b[0m\u001b[0mget_value\u001b[0m\u001b[1;33m(\u001b[0m\u001b[0mstate\u001b[0m\u001b[1;33m)\u001b[0m\u001b[1;33m\u001b[0m\u001b[1;33m\u001b[0m\u001b[0m\n\u001b[0m\u001b[0;32m     61\u001b[0m             \u001b[0mdelta\u001b[0m \u001b[1;33m=\u001b[0m \u001b[0mdelta\u001b[0m\u001b[1;33m.\u001b[0m\u001b[0mdetach\u001b[0m\u001b[1;33m(\u001b[0m\u001b[1;33m)\u001b[0m\u001b[1;33m.\u001b[0m\u001b[0mnumpy\u001b[0m\u001b[1;33m(\u001b[0m\u001b[1;33m)\u001b[0m\u001b[1;33m\u001b[0m\u001b[1;33m\u001b[0m\u001b[0m\n\u001b[0;32m     62\u001b[0m             \u001b[0madvantage_list\u001b[0m \u001b[1;33m=\u001b[0m \u001b[1;33m[\u001b[0m\u001b[1;33m]\u001b[0m\u001b[1;33m\u001b[0m\u001b[1;33m\u001b[0m\u001b[0m\n",
      "\u001b[1;32m<ipython-input-8-7b2544148848>\u001b[0m in \u001b[0;36mget_value\u001b[1;34m(self, x)\u001b[0m\n\u001b[0;32m     26\u001b[0m \u001b[1;33m\u001b[0m\u001b[0m\n\u001b[0;32m     27\u001b[0m     \u001b[1;32mdef\u001b[0m \u001b[0mget_value\u001b[0m\u001b[1;33m(\u001b[0m\u001b[0mself\u001b[0m\u001b[1;33m,\u001b[0m\u001b[0mx\u001b[0m\u001b[1;33m)\u001b[0m\u001b[1;33m:\u001b[0m\u001b[1;33m\u001b[0m\u001b[1;33m\u001b[0m\u001b[0m\n\u001b[1;32m---> 28\u001b[1;33m         \u001b[0mx\u001b[0m \u001b[1;33m=\u001b[0m \u001b[0mF\u001b[0m\u001b[1;33m.\u001b[0m\u001b[0mrelu\u001b[0m\u001b[1;33m(\u001b[0m\u001b[0mself\u001b[0m\u001b[1;33m.\u001b[0m\u001b[0mfc1\u001b[0m\u001b[1;33m(\u001b[0m\u001b[0mx\u001b[0m\u001b[1;33m)\u001b[0m\u001b[1;33m)\u001b[0m\u001b[1;33m\u001b[0m\u001b[1;33m\u001b[0m\u001b[0m\n\u001b[0m\u001b[0;32m     29\u001b[0m         \u001b[0mx\u001b[0m \u001b[1;33m=\u001b[0m \u001b[0mself\u001b[0m\u001b[1;33m.\u001b[0m\u001b[0mvalue\u001b[0m\u001b[1;33m(\u001b[0m\u001b[0mx\u001b[0m\u001b[1;33m)\u001b[0m\u001b[1;33m\u001b[0m\u001b[1;33m\u001b[0m\u001b[0m\n\u001b[0;32m     30\u001b[0m         \u001b[1;32mreturn\u001b[0m \u001b[0mx\u001b[0m\u001b[1;33m\u001b[0m\u001b[1;33m\u001b[0m\u001b[0m\n",
      "\u001b[1;32m~\\AppData\\Local\\Continuum\\anaconda3\\envs\\unity\\lib\\site-packages\\torch\\nn\\modules\\module.py\u001b[0m in \u001b[0;36m__call__\u001b[1;34m(self, *input, **kwargs)\u001b[0m\n\u001b[0;32m    487\u001b[0m             \u001b[0mresult\u001b[0m \u001b[1;33m=\u001b[0m \u001b[0mself\u001b[0m\u001b[1;33m.\u001b[0m\u001b[0m_slow_forward\u001b[0m\u001b[1;33m(\u001b[0m\u001b[1;33m*\u001b[0m\u001b[0minput\u001b[0m\u001b[1;33m,\u001b[0m \u001b[1;33m**\u001b[0m\u001b[0mkwargs\u001b[0m\u001b[1;33m)\u001b[0m\u001b[1;33m\u001b[0m\u001b[1;33m\u001b[0m\u001b[0m\n\u001b[0;32m    488\u001b[0m         \u001b[1;32melse\u001b[0m\u001b[1;33m:\u001b[0m\u001b[1;33m\u001b[0m\u001b[1;33m\u001b[0m\u001b[0m\n\u001b[1;32m--> 489\u001b[1;33m             \u001b[0mresult\u001b[0m \u001b[1;33m=\u001b[0m \u001b[0mself\u001b[0m\u001b[1;33m.\u001b[0m\u001b[0mforward\u001b[0m\u001b[1;33m(\u001b[0m\u001b[1;33m*\u001b[0m\u001b[0minput\u001b[0m\u001b[1;33m,\u001b[0m \u001b[1;33m**\u001b[0m\u001b[0mkwargs\u001b[0m\u001b[1;33m)\u001b[0m\u001b[1;33m\u001b[0m\u001b[1;33m\u001b[0m\u001b[0m\n\u001b[0m\u001b[0;32m    490\u001b[0m         \u001b[1;32mfor\u001b[0m \u001b[0mhook\u001b[0m \u001b[1;32min\u001b[0m \u001b[0mself\u001b[0m\u001b[1;33m.\u001b[0m\u001b[0m_forward_hooks\u001b[0m\u001b[1;33m.\u001b[0m\u001b[0mvalues\u001b[0m\u001b[1;33m(\u001b[0m\u001b[1;33m)\u001b[0m\u001b[1;33m:\u001b[0m\u001b[1;33m\u001b[0m\u001b[1;33m\u001b[0m\u001b[0m\n\u001b[0;32m    491\u001b[0m             \u001b[0mhook_result\u001b[0m \u001b[1;33m=\u001b[0m \u001b[0mhook\u001b[0m\u001b[1;33m(\u001b[0m\u001b[0mself\u001b[0m\u001b[1;33m,\u001b[0m \u001b[0minput\u001b[0m\u001b[1;33m,\u001b[0m \u001b[0mresult\u001b[0m\u001b[1;33m)\u001b[0m\u001b[1;33m\u001b[0m\u001b[1;33m\u001b[0m\u001b[0m\n",
      "\u001b[1;32m~\\AppData\\Local\\Continuum\\anaconda3\\envs\\unity\\lib\\site-packages\\torch\\nn\\modules\\linear.py\u001b[0m in \u001b[0;36mforward\u001b[1;34m(self, input)\u001b[0m\n\u001b[0;32m     65\u001b[0m     \u001b[1;33m@\u001b[0m\u001b[0mweak_script_method\u001b[0m\u001b[1;33m\u001b[0m\u001b[1;33m\u001b[0m\u001b[0m\n\u001b[0;32m     66\u001b[0m     \u001b[1;32mdef\u001b[0m \u001b[0mforward\u001b[0m\u001b[1;33m(\u001b[0m\u001b[0mself\u001b[0m\u001b[1;33m,\u001b[0m \u001b[0minput\u001b[0m\u001b[1;33m)\u001b[0m\u001b[1;33m:\u001b[0m\u001b[1;33m\u001b[0m\u001b[1;33m\u001b[0m\u001b[0m\n\u001b[1;32m---> 67\u001b[1;33m         \u001b[1;32mreturn\u001b[0m \u001b[0mF\u001b[0m\u001b[1;33m.\u001b[0m\u001b[0mlinear\u001b[0m\u001b[1;33m(\u001b[0m\u001b[0minput\u001b[0m\u001b[1;33m,\u001b[0m \u001b[0mself\u001b[0m\u001b[1;33m.\u001b[0m\u001b[0mweight\u001b[0m\u001b[1;33m,\u001b[0m \u001b[0mself\u001b[0m\u001b[1;33m.\u001b[0m\u001b[0mbias\u001b[0m\u001b[1;33m)\u001b[0m\u001b[1;33m\u001b[0m\u001b[1;33m\u001b[0m\u001b[0m\n\u001b[0m\u001b[0;32m     68\u001b[0m \u001b[1;33m\u001b[0m\u001b[0m\n\u001b[0;32m     69\u001b[0m     \u001b[1;32mdef\u001b[0m \u001b[0mextra_repr\u001b[0m\u001b[1;33m(\u001b[0m\u001b[0mself\u001b[0m\u001b[1;33m)\u001b[0m\u001b[1;33m:\u001b[0m\u001b[1;33m\u001b[0m\u001b[1;33m\u001b[0m\u001b[0m\n",
      "\u001b[1;32m~\\AppData\\Local\\Continuum\\anaconda3\\envs\\unity\\lib\\site-packages\\torch\\nn\\functional.py\u001b[0m in \u001b[0;36mlinear\u001b[1;34m(input, weight, bias)\u001b[0m\n\u001b[0;32m   1350\u001b[0m     \u001b[1;32mif\u001b[0m \u001b[0minput\u001b[0m\u001b[1;33m.\u001b[0m\u001b[0mdim\u001b[0m\u001b[1;33m(\u001b[0m\u001b[1;33m)\u001b[0m \u001b[1;33m==\u001b[0m \u001b[1;36m2\u001b[0m \u001b[1;32mand\u001b[0m \u001b[0mbias\u001b[0m \u001b[1;32mis\u001b[0m \u001b[1;32mnot\u001b[0m \u001b[1;32mNone\u001b[0m\u001b[1;33m:\u001b[0m\u001b[1;33m\u001b[0m\u001b[1;33m\u001b[0m\u001b[0m\n\u001b[0;32m   1351\u001b[0m         \u001b[1;31m# fused op is marginally faster\u001b[0m\u001b[1;33m\u001b[0m\u001b[1;33m\u001b[0m\u001b[1;33m\u001b[0m\u001b[0m\n\u001b[1;32m-> 1352\u001b[1;33m         \u001b[0mret\u001b[0m \u001b[1;33m=\u001b[0m \u001b[0mtorch\u001b[0m\u001b[1;33m.\u001b[0m\u001b[0maddmm\u001b[0m\u001b[1;33m(\u001b[0m\u001b[0mtorch\u001b[0m\u001b[1;33m.\u001b[0m\u001b[0mjit\u001b[0m\u001b[1;33m.\u001b[0m\u001b[0m_unwrap_optional\u001b[0m\u001b[1;33m(\u001b[0m\u001b[0mbias\u001b[0m\u001b[1;33m)\u001b[0m\u001b[1;33m,\u001b[0m \u001b[0minput\u001b[0m\u001b[1;33m,\u001b[0m \u001b[0mweight\u001b[0m\u001b[1;33m.\u001b[0m\u001b[0mt\u001b[0m\u001b[1;33m(\u001b[0m\u001b[1;33m)\u001b[0m\u001b[1;33m)\u001b[0m\u001b[1;33m\u001b[0m\u001b[1;33m\u001b[0m\u001b[0m\n\u001b[0m\u001b[0;32m   1353\u001b[0m     \u001b[1;32melse\u001b[0m\u001b[1;33m:\u001b[0m\u001b[1;33m\u001b[0m\u001b[1;33m\u001b[0m\u001b[0m\n\u001b[0;32m   1354\u001b[0m         \u001b[0moutput\u001b[0m \u001b[1;33m=\u001b[0m \u001b[0minput\u001b[0m\u001b[1;33m.\u001b[0m\u001b[0mmatmul\u001b[0m\u001b[1;33m(\u001b[0m\u001b[0mweight\u001b[0m\u001b[1;33m.\u001b[0m\u001b[0mt\u001b[0m\u001b[1;33m(\u001b[0m\u001b[1;33m)\u001b[0m\u001b[1;33m)\u001b[0m\u001b[1;33m\u001b[0m\u001b[1;33m\u001b[0m\u001b[0m\n",
      "\u001b[1;31mKeyboardInterrupt\u001b[0m: "
     ]
    }
   ],
   "source": [
    "for epoch in range(epochs):\n",
    "    building.empty_building()\n",
    "    while building.target == 0 :\n",
    "        building.generate_people(add_people_prob)\n",
    "    first_state = building.target\n",
    "    state = building.get_state()\n",
    "    done = False\n",
    "    global_step = 0\n",
    "    while not done:\n",
    "        for t in range(T_horizon):\n",
    "            global_step += 1\n",
    "            if (global_step % 25 == 0) & global_step > 0 :\n",
    "                #building.generate_people(add_people_prob/2)\n",
    "                pass\n",
    "            action_prob = model.get_action(torch.from_numpy(np.array(state)).float())\n",
    "            m = Categorical(action_prob)\n",
    "            action = m.sample().item()\n",
    "            building.perform_action([action])\n",
    "            reward = building.get_reward() \n",
    "            \n",
    "            next_state = building.get_state()\n",
    "            finished = next_state.copy()\n",
    "            del finished[-2:]\n",
    "            if (sum(finished) == 0.0) :\n",
    "                reward = 100. #* building.target\n",
    "                done = True\n",
    "            #print(sum(finished))\n",
    "            #print('global_step : ',global_step,'state : ',state, 'action : ', action, 'reward : ',reward/float(first_state), 'done : ',done)\n",
    "            #print('global_step : ',global_step,'state : ',state, 'action : ', action, 'reward : ',reward/10., 'done : ',done)\n",
    "            #model.put_data((state, action, reward/float(first_state), next_state, action_prob[action].item(), done))\n",
    "            model.put_data((state, action, reward/10.0, next_state, action_prob[action].item(), done))\n",
    "            state = next_state\n",
    "            \n",
    "            if done or (global_step > 300):\n",
    "                done = True\n",
    "                break\n",
    "\n",
    "        model.train()\n",
    "    ave_reward += global_step \n",
    "    #print(\"Epoch: %d Step: %d Average Reward: %.4f\"%(epoch, global_step, ave_reward/global_step))\n",
    "    if epoch%print_interval==0 and epoch!=0:\n",
    "        print(\"# of episode :{}, avg score : {:.1f}\".format(epoch, ave_reward/print_interval))\n",
    "        ave_reward = 0\n",
    "    if (epoch % 100 == 0 )& (epoch != 0):\n",
    "        torch.save(model.state_dict(), './model_weights/model_'+str(epoch))\n",
    "    reward_list.append(global_step)"
   ]
  },
  {
   "cell_type": "code",
   "execution_count": null,
   "metadata": {
    "scrolled": false
   },
   "outputs": [],
   "source": [
    "'''\n",
    "for epoch in range(epochs):\n",
    "    building.empty_building()\n",
    "    while building.target == 0 :\n",
    "        building.generate_people(add_people_prob)\n",
    "    state = building.get_state()\n",
    "    done = False\n",
    "    global_step = 0\n",
    "    while not done:\n",
    "        for t in range(T_horizon):\n",
    "            global_step += 1\n",
    "            if (global_step % 25 == 0) & global_step > 0 :\n",
    "                #building.generate_people(add_people_prob/2)\n",
    "                pass\n",
    "            prev_people = building.get_arrived_people()\n",
    "            action_prob = model.get_action(torch.from_numpy(np.array(state)).float())\n",
    "            m = Categorical(action_prob)\n",
    "            action = m.sample().item()\n",
    "            building.perform_action([action])\n",
    "            reward = building.get_reward(prev_people) \n",
    "            \n",
    "            next_state = building.get_state()\n",
    "            finished = next_state.copy()\n",
    "            del finished[-2]\n",
    "            if (sum(finished) == 0.0):\n",
    "                reward = 100\n",
    "                done = True\n",
    "            model.put_data((state, action, reward/10., next_state, action_prob[action].item(), done))\n",
    "            state = next_state\n",
    "\n",
    "            if done or global_step > 300:\n",
    "                done = True\n",
    "                break\n",
    "        \n",
    "        model.train()\n",
    "        #raise Exception()\n",
    "    ave_reward += global_step \n",
    "    #print(\"Epoch: %d Step: %d Average Reward: %.4f\"%(epoch, global_step, ave_reward/global_step))\n",
    "    if epoch%print_interval==0 and epoch != 0:\n",
    "        print(\"# of episode :{}, avg score : {:.1f}\".format(epoch, ave_reward/print_interval))\n",
    "        ave_reward = 0\n",
    "    if (epoch % 1000 == 0 )& (epoch != 0):\n",
    "        torch.save(model.state_dict(), './model_weights/model_'+str(epoch))\n",
    "    reward_list.append(global_step)\n",
    "'''"
   ]
  },
  {
   "cell_type": "code",
   "execution_count": 14,
   "metadata": {},
   "outputs": [],
   "source": [
    "building.empty_building()\n",
    "building.generate_people(0.8)"
   ]
  },
  {
   "cell_type": "code",
   "execution_count": 22,
   "metadata": {},
   "outputs": [
    {
     "name": "stdout",
     "output_type": "stream",
     "text": [
      "=======================================================\n",
      "= Floor #04 =            \n",
      "=  Waiting  =             \n",
      "=    003    =\n",
      "=======================================================\n",
      "= Floor #03 =            \n",
      "=  Waiting  =             \n",
      "=    002    =\n",
      "=======================================================\n",
      "= Floor #02 =            \n",
      "=  Waiting  =             \n",
      "=    002    =\n",
      "=======================================================\n",
      "= Floor #01 =            \n",
      "=  Waiting  =             \n",
      "=    000    =\n",
      "=======================================================\n",
      "= Floor #00 =   Lift #0  \n",
      "=  Arrived  =     00     \n",
      "=    000    =\n",
      "=======================================================\n",
      "\n",
      "People to move: 10 \n",
      "Total # of people: 10\n",
      "Step: 0\n",
      "state :  [0.0, 0.0, 0.25, 0.25, 0.375, 0.0, 0.0, 0.0, 0.0, 0.0, 0.0, 0.0, 0.0, 0.0, 0.0, 0.0, 0.0]\n",
      "now reward :  -4\n"
     ]
    }
   ],
   "source": [
    "building.perform_action([3])\n",
    "building.print_building(0)"
   ]
  },
  {
   "cell_type": "code",
   "execution_count": 9,
   "metadata": {},
   "outputs": [
    {
     "data": {
      "text/plain": [
       "[<matplotlib.lines.Line2D at 0x1bc485ccb70>]"
      ]
     },
     "execution_count": 9,
     "metadata": {},
     "output_type": "execute_result"
    }
   ],
   "source": [
    "import matplotlib.pyplot as plt\n"
   ]
  },
  {
   "cell_type": "code",
   "execution_count": 10,
   "metadata": {},
   "outputs": [
    {
     "data": {
      "text/plain": [
       "[<matplotlib.lines.Line2D at 0x1bc4a41ae80>]"
      ]
     },
     "execution_count": 10,
     "metadata": {},
     "output_type": "execute_result"
    }
   ],
   "source": [
    "%matplotlib tk\n",
    "plt.plot(reward_list)"
   ]
  },
  {
   "cell_type": "code",
   "execution_count": 18,
   "metadata": {},
   "outputs": [],
   "source": [
    "building.empty_building()"
   ]
  },
  {
   "cell_type": "code",
   "execution_count": 19,
   "metadata": {},
   "outputs": [],
   "source": [
    "building.generate_people(0.8)"
   ]
  },
  {
   "cell_type": "code",
   "execution_count": 20,
   "metadata": {},
   "outputs": [
    {
     "name": "stdout",
     "output_type": "stream",
     "text": [
      "=======================================================\n",
      "= Floor #04 =            \n",
      "=  Waiting  =             \n",
      "=    001    =\n",
      "=======================================================\n",
      "= Floor #03 =            \n",
      "=  Waiting  =             \n",
      "=    004    =\n",
      "=======================================================\n",
      "= Floor #02 =            \n",
      "=  Waiting  =             \n",
      "=    001    =\n",
      "=======================================================\n",
      "= Floor #01 =            \n",
      "=  Waiting  =             \n",
      "=    005    =\n",
      "=======================================================\n",
      "= Floor #00 =   Lift #0  \n",
      "=  Arrived  =     00     \n",
      "=    005    =\n",
      "=======================================================\n",
      "\n",
      "People to move: 11 \n",
      "Total # of people: 16\n",
      "Step: 0\n",
      "state :  [0.625, 0.625, 0.125, 0.5, 0.125, 0.0, 0.0, 0.0, 0.0, 0.0, 0.0, 0.0, 0.0, 0.0, 0.0, 0.0, 0.0]\n",
      "now reward :  -16\n"
     ]
    }
   ],
   "source": [
    "building.print_building(0)"
   ]
  },
  {
   "cell_type": "code",
   "execution_count": 79,
   "metadata": {},
   "outputs": [
    {
     "name": "stdout",
     "output_type": "stream",
     "text": [
      "=======================================================\n",
      "= Floor #04 =   Lift #0  \n",
      "=  Waiting  =     00     \n",
      "=    000    =\n",
      "=======================================================\n",
      "= Floor #03 =            \n",
      "=  Waiting  =             \n",
      "=    000    =\n",
      "=======================================================\n",
      "= Floor #02 =            \n",
      "=  Waiting  =             \n",
      "=    000    =\n",
      "=======================================================\n",
      "= Floor #01 =            \n",
      "=  Waiting  =             \n",
      "=    000    =\n",
      "=======================================================\n",
      "= Floor #00 =            \n",
      "=  Arrived  =             \n",
      "=    000    =\n",
      "=======================================================\n",
      "\n",
      "People to move: 16 \n",
      "Total # of people: 16\n",
      "Step: 0\n",
      "state :  [0.0, 0.0, 0.0, 0.0, 0.0, 0.0, 0.0, 0.0, 0.0, 0.0, 0.0, 0.0, 0.0, 0.0, 0.0, 0.8, 0.0]\n",
      "now reward :  1\n"
     ]
    }
   ],
   "source": []
  }
 ],
 "metadata": {
  "kernelspec": {
   "display_name": "unity",
   "language": "python",
   "name": "unity"
  },
  "language_info": {
   "codemirror_mode": {
    "name": "ipython",
    "version": 3
   },
   "file_extension": ".py",
   "mimetype": "text/x-python",
   "name": "python",
   "nbconvert_exporter": "python",
   "pygments_lexer": "ipython3",
   "version": "3.6.7"
  }
 },
 "nbformat": 4,
 "nbformat_minor": 2
}
